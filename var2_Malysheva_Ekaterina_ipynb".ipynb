{
  "cells": [
    {
      "cell_type": "markdown",
      "metadata": {
        "id": "view-in-github",
        "colab_type": "text"
      },
      "source": [
        "<a href=\"https://colab.research.google.com/github/poltorashka-s-BMa/course-os-linux/blob/main/var2_Malysheva_Ekaterina_ipynb%22.ipynb\" target=\"_parent\"><img src=\"https://colab.research.google.com/assets/colab-badge.svg\" alt=\"Open In Colab\"/></a>"
      ]
    },
    {
      "cell_type": "code",
      "source": [
        "\n",
        "\n",
        "import pandas as pd\n",
        "import numpy as np\n",
        "from sklearn.model_selection import train_test_split\n",
        "\n",
        "# Загрузка данных\n",
        "data = pd.read_csv('data.adult.csv')\n",
        "\n",
        "# Просмотр первых строк\n",
        "print(data.head())\n",
        "print(\"\\nИнформация о данных:\")\n",
        "print(data.info())"
      ],
      "metadata": {
        "colab": {
          "base_uri": "https://localhost:8080/"
        },
        "id": "Ysg0Lxvn1KWz",
        "outputId": "acf71a73-06d4-4c5f-da7a-d9d328c3661f"
      },
      "execution_count": null,
      "outputs": [
        {
          "output_type": "stream",
          "name": "stdout",
          "text": [
            "   age  workclass  fnlwgt     education  education-num      marital-status  \\\n",
            "0   34  Local-gov  284843       HS-grad              9       Never-married   \n",
            "1   40    Private  190290  Some-college             10            Divorced   \n",
            "2   36  Local-gov  177858     Bachelors             13  Married-civ-spouse   \n",
            "3   22    Private  184756  Some-college             10       Never-married   \n",
            "4   47    Private  149700     Bachelors             13  Married-civ-spouse   \n",
            "\n",
            "        occupation   relationship   race     sex  capital-gain  capital-loss  \\\n",
            "0  Farming-fishing  Not-in-family  Black    Male           594             0   \n",
            "1            Sales  Not-in-family  White    Male             0             0   \n",
            "2   Prof-specialty      Own-child  White    Male             0             0   \n",
            "3            Sales      Own-child  White  Female             0             0   \n",
            "4     Tech-support        Husband  White    Male         15024             0   \n",
            "\n",
            "   hours-per-week >50K,<=50K  \n",
            "0              60      <=50K  \n",
            "1              40      <=50K  \n",
            "2              40      <=50K  \n",
            "3              30      <=50K  \n",
            "4              40       >50K  \n",
            "\n",
            "Информация о данных:\n",
            "<class 'pandas.core.frame.DataFrame'>\n",
            "RangeIndex: 16280 entries, 0 to 16279\n",
            "Data columns (total 14 columns):\n",
            " #   Column          Non-Null Count  Dtype \n",
            "---  ------          --------------  ----- \n",
            " 0   age             16280 non-null  int64 \n",
            " 1   workclass       16280 non-null  object\n",
            " 2   fnlwgt          16280 non-null  int64 \n",
            " 3   education       16280 non-null  object\n",
            " 4   education-num   16280 non-null  int64 \n",
            " 5   marital-status  16280 non-null  object\n",
            " 6   occupation      16280 non-null  object\n",
            " 7   relationship    16280 non-null  object\n",
            " 8   race            16280 non-null  object\n",
            " 9   sex             16280 non-null  object\n",
            " 10  capital-gain    16280 non-null  int64 \n",
            " 11  capital-loss    16280 non-null  int64 \n",
            " 12  hours-per-week  16280 non-null  int64 \n",
            " 13  >50K,<=50K      16280 non-null  object\n",
            "dtypes: int64(6), object(8)\n",
            "memory usage: 1.7+ MB\n",
            "None\n"
          ]
        }
      ]
    },
    {
      "cell_type": "code",
      "source": [
        "# Замена \"?\" на NaN и удаление пропусков\n",
        "data = data.replace('?', pd.NA).dropna()\n",
        "\n",
        "# Разделение на обучающую и тестовую выборки\n",
        "train_data, test_data = train_test_split(data, test_size=0.4, random_state=42)\n",
        "\n",
        "# Преобразование целевой переменной\n",
        "train_data['income'] = train_data['>50K,<=50K'].apply(lambda x: 1 if x.strip() == '>50K' else 0)\n",
        "test_data['income'] = test_data['>50K,<=50K'].apply(lambda x: 1 if x.strip() == '>50K' else 0)\n",
        "\n",
        "# Удаление исходной целевой переменной из данных\n",
        "train_data = train_data.drop('>50K,<=50K', axis=1)\n",
        "test_data = test_data.drop('>50K,<=50K', axis=1)\n",
        "\n",
        "# One-hot encoding для категориальных признаков\n",
        "categorical_cols = ['workclass', 'education', 'marital-status', 'occupation',\n",
        "                   'relationship', 'race', 'sex']\n",
        "train_data = pd.get_dummies(train_data, columns=categorical_cols)\n",
        "test_data = pd.get_dummies(test_data, columns=categorical_cols)"
      ],
      "metadata": {
        "id": "o8FKj-f21-wr"
      },
      "execution_count": null,
      "outputs": []
    },
    {
      "cell_type": "code",
      "source": [
        "print(\"Распределение классов в обучающей выборке:\")\n",
        "print(train_data['income'].value_counts(normalize=True))"
      ],
      "metadata": {
        "colab": {
          "base_uri": "https://localhost:8080/"
        },
        "id": "_qno6H4Y3y-9",
        "outputId": "fa32e032-d2a8-4478-8665-8816408acc39"
      },
      "execution_count": null,
      "outputs": [
        {
          "output_type": "stream",
          "name": "stdout",
          "text": [
            "Распределение классов в обучающей выборке:\n",
            "income\n",
            "0    0.741746\n",
            "1    0.258254\n",
            "Name: proportion, dtype: float64\n"
          ]
        }
      ]
    },
    {
      "cell_type": "code",
      "source": [
        "from sklearn.tree import DecisionTreeClassifier\n",
        "from sklearn.model_selection import GridSearchCV\n",
        "\n",
        "# Выделение признаков и целевой переменной\n",
        "X_train = train_data.drop('income', axis=1)\n",
        "y_train = train_data['income']\n",
        "\n",
        "# Подбор оптимальной глубины дерева\n",
        "param_grid = {'max_depth': range(1, 21)}\n",
        "tree = DecisionTreeClassifier(random_state=42)\n",
        "grid_search = GridSearchCV(tree, param_grid, cv=5, return_train_score=True)\n",
        "grid_search.fit(X_train, y_train)\n",
        "\n",
        "# Лучшие параметры\n",
        "print(f\"Лучшая глубина дерева: {grid_search.best_params_['max_depth']}\")\n",
        "print(f\"Лучшая точность: {grid_search.best_score_:.3f}\")"
      ],
      "metadata": {
        "colab": {
          "base_uri": "https://localhost:8080/"
        },
        "id": "vLX4rCz94DU1",
        "outputId": "e00689f6-df3b-4842-eb9b-39e963bfc882"
      },
      "execution_count": null,
      "outputs": [
        {
          "output_type": "stream",
          "name": "stdout",
          "text": [
            "Лучшая глубина дерева: 7\n",
            "Лучшая точность: 0.841\n"
          ]
        }
      ]
    },
    {
      "cell_type": "code",
      "source": [
        "from sklearn.ensemble import RandomForestClassifier\n",
        "import numpy as np\n",
        "\n",
        "# Подбор количества деревьев\n",
        "n_estimators = [10, 50, 100, 200, 300, 400, 500]\n",
        "param_grid = {'n_estimators': n_estimators}\n",
        "forest = RandomForestClassifier(random_state=42, n_jobs=-1)\n",
        "grid_search = GridSearchCV(forest, param_grid, cv=5)\n",
        "grid_search.fit(X_train, y_train)\n",
        "\n",
        "# Лучшее количество деревьев\n",
        "best_n = grid_search.best_params_['n_estimators']\n",
        "print(f\"Оптимальное количество деревьев: {best_n}\")\n",
        "\n",
        "# Подбор других параметров для Random Forest\n",
        "param_grid = {\n",
        "    'max_depth': [None, 10, 20, 30],\n",
        "    'criterion': ['gini', 'entropy'],\n",
        "    'max_features': ['sqrt', 'log2', None]\n",
        "}\n",
        "forest = RandomForestClassifier(n_estimators=best_n, random_state=42, n_jobs=-1)\n",
        "grid_search = GridSearchCV(forest, param_grid, cv=5)\n",
        "grid_search.fit(X_train, y_train)\n",
        "\n",
        "# Лучшие параметры\n",
        "print(\"Лучшие параметры для Random Forest:\")\n",
        "print(grid_search.best_params_)"
      ],
      "metadata": {
        "colab": {
          "base_uri": "https://localhost:8080/"
        },
        "id": "RhhEeGQH4RED",
        "outputId": "cabd3314-8a4d-473e-e3e4-3fb6c353b22c"
      },
      "execution_count": null,
      "outputs": [
        {
          "output_type": "stream",
          "name": "stdout",
          "text": [
            "Оптимальное количество деревьев: 300\n",
            "Лучшие параметры для Random Forest:\n",
            "{'criterion': 'gini', 'max_depth': 10, 'max_features': None}\n"
          ]
        }
      ]
    },
    {
      "cell_type": "code",
      "source": [
        "from sklearn.metrics import accuracy_score, classification_report\n",
        "\n",
        "# Подготовка тестовых данных\n",
        "X_test = test_data.drop('income', axis=1)\n",
        "y_test = test_data['income']\n",
        "\n",
        "# Лучшие модели\n",
        "best_tree = DecisionTreeClassifier(max_depth=grid_search.best_params_['max_depth'], random_state=42)\n",
        "best_forest = RandomForestClassifier(n_estimators=best_n, **grid_search.best_params_, random_state=42, n_jobs=-1)\n",
        "\n",
        "# Обучение и предсказание\n",
        "best_tree.fit(X_train, y_train)\n",
        "best_forest.fit(X_train, y_train)\n",
        "\n",
        "tree_pred = best_tree.predict(X_test)\n",
        "forest_pred = best_forest.predict(X_test)\n",
        "\n",
        "# Оценка качества\n",
        "print(\"Decision Tree:\")\n",
        "print(classification_report(y_test, tree_pred))\n",
        "print(\"Accuracy:\", accuracy_score(y_test, tree_pred))\n",
        "\n",
        "print(\"\\nRandom Forest:\")\n",
        "print(classification_report(y_test, forest_pred))\n",
        "print(\"Accuracy:\", accuracy_score(y_test, forest_pred))\n"
      ],
      "metadata": {
        "colab": {
          "base_uri": "https://localhost:8080/"
        },
        "id": "Jh4Qk2jX5SSd",
        "outputId": "01ef80c3-f180-4273-d037-5bca761a549e"
      },
      "execution_count": null,
      "outputs": [
        {
          "output_type": "stream",
          "name": "stdout",
          "text": [
            "Decision Tree:\n",
            "              precision    recall  f1-score   support\n",
            "\n",
            "           0       0.88      0.91      0.89      4577\n",
            "           1       0.70      0.62      0.66      1562\n",
            "\n",
            "    accuracy                           0.84      6139\n",
            "   macro avg       0.79      0.77      0.78      6139\n",
            "weighted avg       0.83      0.84      0.83      6139\n",
            "\n",
            "Accuracy: 0.8359667698322202\n",
            "\n",
            "Random Forest:\n",
            "              precision    recall  f1-score   support\n",
            "\n",
            "           0       0.87      0.95      0.91      4577\n",
            "           1       0.79      0.58      0.67      1562\n",
            "\n",
            "    accuracy                           0.85      6139\n",
            "   macro avg       0.83      0.76      0.79      6139\n",
            "weighted avg       0.85      0.85      0.85      6139\n",
            "\n",
            "Accuracy: 0.8545365694738557\n"
          ]
        }
      ]
    },
    {
      "cell_type": "code",
      "source": [
        "pip install ete3"
      ],
      "metadata": {
        "colab": {
          "base_uri": "https://localhost:8080/"
        },
        "id": "O7W45EAKKwtk",
        "outputId": "136fad34-0dea-459b-b495-c48163924cf3"
      },
      "execution_count": null,
      "outputs": [
        {
          "output_type": "stream",
          "name": "stdout",
          "text": [
            "Collecting ete3\n",
            "  Downloading ete3-3.1.3.tar.gz (4.8 MB)\n",
            "\u001b[2K     \u001b[90m━━━━━━━━━━━━━━━━━━━━━━━━━━━━━━━━━━━━━━━━\u001b[0m \u001b[32m4.8/4.8 MB\u001b[0m \u001b[31m20.2 MB/s\u001b[0m eta \u001b[36m0:00:00\u001b[0m\n",
            "\u001b[?25h  Preparing metadata (setup.py) ... \u001b[?25l\u001b[?25hdone\n",
            "Building wheels for collected packages: ete3\n",
            "  Building wheel for ete3 (setup.py) ... \u001b[?25l\u001b[?25hdone\n",
            "  Created wheel for ete3: filename=ete3-3.1.3-py3-none-any.whl size=2273786 sha256=ce3a818c0cf50613061beafb234841af8a2978e1e2f2dd9a4644e62ba52b6315\n",
            "  Stored in directory: /root/.cache/pip/wheels/dd/a8/60/0a29caa9f8ceb7316704be63c1578ab13c36668abb646366ac\n",
            "Successfully built ete3\n",
            "Installing collected packages: ete3\n",
            "Successfully installed ete3-3.1.3\n"
          ]
        }
      ]
    },
    {
      "cell_type": "code",
      "source": [
        "from ete3 import Tree, TreeStyle\n",
        "\n",
        "tree = Tree(\"/content/alig_genome.tree\")  # Загрузка Newick\n",
        "ts = TreeStyle()\n",
        "ts.show_leaf_name = True\n",
        "ts.show_branch_support = True  # Показывать bootstrap\n",
        "\n",
        "tree.render(\"tree.png\", w=800, tree_style=ts)  # PNG\n",
        "# tree.show()  # Интерактивный просмотр"
      ],
      "metadata": {
        "colab": {
          "base_uri": "https://localhost:8080/",
          "height": 383
        },
        "id": "EN11S6RkK8zU",
        "outputId": "0cd83902-0814-4607-d93b-8add80194fb4"
      },
      "execution_count": null,
      "outputs": [
        {
          "output_type": "error",
          "ename": "ImportError",
          "evalue": "cannot import name 'TreeStyle' from 'ete3' (/usr/local/lib/python3.11/dist-packages/ete3/__init__.py)",
          "traceback": [
            "\u001b[0;31m---------------------------------------------------------------------------\u001b[0m",
            "\u001b[0;31mImportError\u001b[0m                               Traceback (most recent call last)",
            "\u001b[0;32m<ipython-input-2-692c646c0141>\u001b[0m in \u001b[0;36m<cell line: 0>\u001b[0;34m()\u001b[0m\n\u001b[0;32m----> 1\u001b[0;31m \u001b[0;32mfrom\u001b[0m \u001b[0mete3\u001b[0m \u001b[0;32mimport\u001b[0m \u001b[0mTree\u001b[0m\u001b[0;34m,\u001b[0m \u001b[0mTreeStyle\u001b[0m\u001b[0;34m\u001b[0m\u001b[0;34m\u001b[0m\u001b[0m\n\u001b[0m\u001b[1;32m      2\u001b[0m \u001b[0;34m\u001b[0m\u001b[0m\n\u001b[1;32m      3\u001b[0m \u001b[0mtree\u001b[0m \u001b[0;34m=\u001b[0m \u001b[0mTree\u001b[0m\u001b[0;34m(\u001b[0m\u001b[0;34m\"/content/alig_genome.tree\"\u001b[0m\u001b[0;34m)\u001b[0m  \u001b[0;31m# Загрузка Newick\u001b[0m\u001b[0;34m\u001b[0m\u001b[0;34m\u001b[0m\u001b[0m\n\u001b[1;32m      4\u001b[0m \u001b[0mts\u001b[0m \u001b[0;34m=\u001b[0m \u001b[0mTreeStyle\u001b[0m\u001b[0;34m(\u001b[0m\u001b[0;34m)\u001b[0m\u001b[0;34m\u001b[0m\u001b[0;34m\u001b[0m\u001b[0m\n\u001b[1;32m      5\u001b[0m \u001b[0mts\u001b[0m\u001b[0;34m.\u001b[0m\u001b[0mshow_leaf_name\u001b[0m \u001b[0;34m=\u001b[0m \u001b[0;32mTrue\u001b[0m\u001b[0;34m\u001b[0m\u001b[0;34m\u001b[0m\u001b[0m\n",
            "\u001b[0;31mImportError\u001b[0m: cannot import name 'TreeStyle' from 'ete3' (/usr/local/lib/python3.11/dist-packages/ete3/__init__.py)",
            "",
            "\u001b[0;31m---------------------------------------------------------------------------\u001b[0;32m\nNOTE: If your import is failing due to a missing package, you can\nmanually install dependencies using either !pip or !apt.\n\nTo view examples of installing some common dependencies, click the\n\"Open Examples\" button below.\n\u001b[0;31m---------------------------------------------------------------------------\u001b[0m\n"
          ],
          "errorDetails": {
            "actions": [
              {
                "action": "open_url",
                "actionText": "Open Examples",
                "url": "/notebooks/snippets/importing_libraries.ipynb"
              }
            ]
          }
        }
      ]
    }
  ],
  "metadata": {
    "kernelspec": {
      "display_name": "Py3 Research",
      "language": "python",
      "name": "py3_research_kernel"
    },
    "language_info": {
      "codemirror_mode": {
        "name": "ipython",
        "version": 3
      },
      "file_extension": ".py",
      "mimetype": "text/x-python",
      "name": "python",
      "nbconvert_exporter": "python",
      "pygments_lexer": "ipython3",
      "version": "3.9.7"
    },
    "colab": {
      "provenance": [],
      "include_colab_link": true
    }
  },
  "nbformat": 4,
  "nbformat_minor": 0
}