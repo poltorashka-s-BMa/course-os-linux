{
  "nbformat": 4,
  "nbformat_minor": 0,
  "metadata": {
    "colab": {
      "provenance": [],
      "authorship_tag": "ABX9TyOp5fQB/7s9xU2a4rpE+Zg8",
      "include_colab_link": true
    },
    "kernelspec": {
      "name": "python3",
      "display_name": "Python 3"
    },
    "language_info": {
      "name": "python"
    }
  },
  "cells": [
    {
      "cell_type": "markdown",
      "metadata": {
        "id": "view-in-github",
        "colab_type": "text"
      },
      "source": [
        "<a href=\"https://colab.research.google.com/github/poltorashka-s-BMa/course-os-linux/blob/main/%D0%9A%D0%BE%D0%BF%D0%B8%D1%8F_%D0%B1%D0%BB%D0%BE%D0%BA%D0%BD%D0%BE%D1%82%D0%B0_%22boiler_myr_ipynb%22.ipynb\" target=\"_parent\"><img src=\"https://colab.research.google.com/assets/colab-badge.svg\" alt=\"Open In Colab\"/></a>"
      ]
    },
    {
      "cell_type": "markdown",
      "source": [
        "Найдем подпоследовательность ASSIAGG в последовательности MAGVKSLVLLLLVLVVAALSASASSIAGGDHLQLGLLSGPGRGECRGTVAECGGEDAEGELGSASAEAHRRVLQGRGYISYGALRRGTVPCNRRGASYYNCRPGAQANPYHRGCSRITRCRG*"
      ],
      "metadata": {
        "id": "tk_QpmpwSDZ2"
      }
    },
    {
      "cell_type": "code",
      "execution_count": null,
      "metadata": {
        "colab": {
          "base_uri": "https://localhost:8080/"
        },
        "id": "egEhVHIJgLA0",
        "outputId": "aeffe5fc-d069-484d-db92-afa16b6be4a3"
      },
      "outputs": [
        {
          "output_type": "stream",
          "name": "stdout",
          "text": [
            "{'G': 1, 'A': 2, 'I': 3, 'S': 4, '*': 7}\n",
            "образ найден по индексу 22\n"
          ]
        }
      ],
      "source": [
        "t = \"ASSIAGG\"\n",
        "\n",
        "# Этап 1: формирование таблицы смещений\n",
        "\n",
        "S = set()  # уникальные символы в образе\n",
        "M = len(t) # число символов в образе\n",
        "d = {}     # словарь смещений\n",
        "\n",
        "for i in range(M-2, -1, -1): # итерации с предпоследнего символа\n",
        "    if t[i] not in S:        # если символ еще не добавлен в таблицу\n",
        "        d[t[i]] = M-i-1\n",
        "        S.add(t[i])\n",
        "\n",
        "if t[M-1] not in S:     # отдельно формируем последний символ\n",
        "    d[t[M-1]] = M\n",
        "\n",
        "d['*'] = M              # смещения для прочих символов\n",
        "\n",
        "print(d)\n",
        "\n",
        "# Этап 2: поиск образа в строке\n",
        "\n",
        "a = \"MAGVKSLVLLLLVLVVAALSASASSIAGGDHLQLGLLSGPGRGECRGTVAECGGEDAEGELGSASAEAHRRVLQGRGYISYGALRRGTVPCNRRGASYYNCRPGAQANPYHRGCSRITRCRG*\"\n",
        "N = len(a)\n",
        "\n",
        "if N >= M:\n",
        "    i = M-1       # счетчик проверяемого символа в строке\n",
        "\n",
        "    while(i < N):\n",
        "        k = 0\n",
        "        j = 0\n",
        "        flBreak = False\n",
        "        for j in range(M-1, -1, -1):\n",
        "            if a[i-k] != t[j]:\n",
        "                if j == M-1:\n",
        "                    off = d[a[i]] if d.get(a[i], False) else d['*']  # смещение, если не равен последний символ образа\n",
        "                else:\n",
        "                    off = d[t[j]]   # смещение, если не равен не последний символ образа\n",
        "\n",
        "                i += off    # смещение счетчика строки\n",
        "                flBreak = True  # если несовпадение символа, то flBreak = True\n",
        "                break\n",
        "\n",
        "            k += 1          # смещение для сравниваемого символа в строке\n",
        "\n",
        "        if not flBreak:          # если дошли до начала образа, значит, все его символы совпали\n",
        "            print(f\"образ найден по индексу {i-k+1}\")\n",
        "            break\n",
        "    else:\n",
        "        print(\"образ не найден\")\n",
        "else:\n",
        "    print(\"образ не найден\")"
      ]
    },
    {
      "cell_type": "markdown",
      "source": [],
      "metadata": {
        "id": "eiHjXuL2SBxi"
      }
    },
    {
      "cell_type": "markdown",
      "source": [
        "Найдем подпоследовательность AECGGEDAEGE в последовательности MAGVKSLVLLLLVLVVAALSASASSIAGGDHLQLGLLSGPGRGECRGTVAECGGEDAEGELGSASAEAHRRVLQGRGYISYGALRRGTVPCNRRGASYYNCRPGAQANPYHRGCSRITRCRG* по алгоритму Бойлера Мура"
      ],
      "metadata": {
        "id": "i3KSsnUUSbD1"
      }
    },
    {
      "cell_type": "code",
      "source": [
        "t = \"AECGGEDAEGE\"\n",
        "\n",
        "# Этап 1: формирование таблицы смещений\n",
        "\n",
        "S = set()  # уникальные символы в образе\n",
        "M = len(t) # число символов в образе\n",
        "d = {}     # словарь смещений\n",
        "\n",
        "for i in range(M-2, -1, -1): # итерации с предпоследнего символа\n",
        "    if t[i] not in S:        # если символ еще не добавлен в таблицу\n",
        "        d[t[i]] = M-i-1\n",
        "        S.add(t[i])\n",
        "\n",
        "if t[M-1] not in S:     # отдельно формируем последний символ\n",
        "    d[t[M-1]] = M\n",
        "\n",
        "d['*'] = M              # смещения для прочих символов\n",
        "\n",
        "print(d)\n",
        "\n",
        "# Этап 2: поиск образа в строке\n",
        "\n",
        "a = \"MAGVKSLVLLLLVLVVAALSASASSIAGGDHLQLGLLSGPGRGECRGTVAECGGEDAEGELGSASAEAHRRVLQGRGYISYGALRRGTVPCNRRGASYYNCRPGAQANPYHRGCSRITRCRG*\"\n",
        "N = len(a)\n",
        "\n",
        "if N >= M:\n",
        "    i = M-1       # счетчик проверяемого символа в строке\n",
        "\n",
        "    while(i < N):\n",
        "        k = 0\n",
        "        j = 0\n",
        "        flBreak = False\n",
        "        for j in range(M-1, -1, -1):\n",
        "            if a[i-k] != t[j]:\n",
        "                if j == M-1:\n",
        "                    off = d[a[i]] if d.get(a[i], False) else d['*']  # смещение, если не равен последний символ образа\n",
        "                else:\n",
        "                    off = d[t[j]]   # смещение, если не равен не последний символ образа\n",
        "\n",
        "                i += off    # смещение счетчика строки\n",
        "                flBreak = True  # если несовпадение символа, то flBreak = True\n",
        "                break\n",
        "\n",
        "            k += 1          # смещение для сравниваемого символа в строке\n",
        "\n",
        "        if not flBreak:          # если дошли до начала образа, значит, все его символы совпали\n",
        "            print(f\"образ найден по индексу {i-k+1}\")\n",
        "            break\n",
        "    else:\n",
        "        print(\"образ не найден\")\n",
        "else:\n",
        "    print(\"образ не найден\")"
      ],
      "metadata": {
        "colab": {
          "base_uri": "https://localhost:8080/"
        },
        "id": "8qJoBtxOS1U7",
        "outputId": "d9c8cb08-37f1-40e9-da43-58c3f7aff40b"
      },
      "execution_count": null,
      "outputs": [
        {
          "output_type": "stream",
          "name": "stdout",
          "text": [
            "{'G': 1, 'E': 2, 'A': 3, 'D': 4, 'C': 8, '*': 11}\n",
            "образ найден по индексу 49\n"
          ]
        }
      ]
    },
    {
      "cell_type": "markdown",
      "source": [
        "Удаляем интрон из последовательности"
      ],
      "metadata": {
        "id": "r1o1BA6ITHt1"
      }
    },
    {
      "cell_type": "code",
      "source": [
        "r =a[: 29] #получаем строку до начала интрона, отрезая все остальное\n",
        "print(r)\n"
      ],
      "metadata": {
        "colab": {
          "base_uri": "https://localhost:8080/"
        },
        "id": "fEj9GWX3TOdv",
        "outputId": "543deb87-02b3-478f-e911-9d58d9576078"
      },
      "execution_count": null,
      "outputs": [
        {
          "output_type": "stream",
          "name": "stdout",
          "text": [
            "MAGVKSLVLLLLVLVVAALSASASSIAGG\n"
          ]
        }
      ]
    },
    {
      "cell_type": "code",
      "source": [
        "q = a[49 :] # получаем строку после интрона\n",
        "print (q)"
      ],
      "metadata": {
        "colab": {
          "base_uri": "https://localhost:8080/"
        },
        "id": "XzHOmEVQff01",
        "outputId": "62b5c391-8e48-4111-9bb7-7a7f29c12e47"
      },
      "execution_count": null,
      "outputs": [
        {
          "output_type": "stream",
          "name": "stdout",
          "text": [
            "AECGGEDAEGELGSASAEAHRRVLQGRGYISYGALRRGTVPCNRRGASYYNCRPGAQANPYHRGCSRITRCRG*\n"
          ]
        }
      ]
    },
    {
      "cell_type": "markdown",
      "source": [
        "Сошьем полученные последовательности\n"
      ],
      "metadata": {
        "id": "KDm-XjA5gXvc"
      }
    },
    {
      "cell_type": "code",
      "source": [
        "a=a[: 29] + a[49 :]\n",
        "print(a) # получили последовательность без интрона"
      ],
      "metadata": {
        "colab": {
          "base_uri": "https://localhost:8080/"
        },
        "id": "Lh1kAysmg3k2",
        "outputId": "027c409a-c6bd-4674-9039-deee211496c1"
      },
      "execution_count": null,
      "outputs": [
        {
          "output_type": "stream",
          "name": "stdout",
          "text": [
            "MAGVKSLVLLLLVLVVAALSASASSIAGGAECGGEDAEGELGSASAEAHRRVLQGRGYISYGALRRGTVPCNRRGASYYNCRPGAQANPYHRGCSRITRCRG*\n"
          ]
        }
      ]
    },
    {
      "cell_type": "markdown",
      "source": [
        "Ура! Ура! Ура!"
      ],
      "metadata": {
        "id": "kthfoJyYhbGf"
      }
    }
  ]
}