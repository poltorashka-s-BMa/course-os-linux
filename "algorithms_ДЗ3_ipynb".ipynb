{
  "nbformat": 4,
  "nbformat_minor": 0,
  "metadata": {
    "colab": {
      "provenance": [],
      "collapsed_sections": [
        "3s7Ti3i7fmUo",
        "8XTwqZ6Dfa2N",
        "SII78GRRfN_K",
        "HUGLXX1fX1rN"
      ],
      "gpuType": "T4",
      "include_colab_link": true
    },
    "kernelspec": {
      "name": "python3",
      "display_name": "Python 3"
    },
    "language_info": {
      "name": "python"
    },
    "accelerator": "GPU"
  },
  "cells": [
    {
      "cell_type": "markdown",
      "metadata": {
        "id": "view-in-github",
        "colab_type": "text"
      },
      "source": [
        "<a href=\"https://colab.research.google.com/github/poltorashka-s-BMa/course-os-linux/blob/main/%22algorithms_%D0%94%D0%973_ipynb%22.ipynb\" target=\"_parent\"><img src=\"https://colab.research.google.com/assets/colab-badge.svg\" alt=\"Open In Colab\"/></a>"
      ]
    },
    {
      "cell_type": "markdown",
      "source": [
        "#Загрузка геномов мыши и человека"
      ],
      "metadata": {
        "id": "PCqWDGgiIz3u"
      }
    },
    {
      "cell_type": "code",
      "execution_count": null,
      "metadata": {
        "id": "ar4_fyIQMTI4",
        "colab": {
          "base_uri": "https://localhost:8080/"
        },
        "outputId": "0c4e3c73-3d19-4bed-ad4c-b6d7358d08b7"
      },
      "outputs": [
        {
          "output_type": "stream",
          "name": "stdout",
          "text": [
            "--2024-01-24 17:52:58--  https://hgdownload.soe.ucsc.edu/goldenPath/hg38/chromosomes/chrY.fa.gz\n",
            "Resolving hgdownload.soe.ucsc.edu (hgdownload.soe.ucsc.edu)... 128.114.119.163\n",
            "Connecting to hgdownload.soe.ucsc.edu (hgdownload.soe.ucsc.edu)|128.114.119.163|:443... connected.\n",
            "HTTP request sent, awaiting response... 200 OK\n",
            "Length: 8418295 (8.0M) [application/x-gzip]\n",
            "Saving to: ‘chrY.fa.gz’\n",
            "\n",
            "chrY.fa.gz          100%[===================>]   8.03M  15.3MB/s    in 0.5s    \n",
            "\n",
            "2024-01-24 17:52:59 (15.3 MB/s) - ‘chrY.fa.gz’ saved [8418295/8418295]\n",
            "\n"
          ]
        }
      ],
      "source": [
        "!wget https://hgdownload.soe.ucsc.edu/goldenPath/hg38/chromosomes/chrY.fa.gz"
      ]
    },
    {
      "cell_type": "code",
      "source": [
        "!wget https://hgdownload.soe.ucsc.edu/goldenPath/mm10/chromosomes/chrY.fa.gz"
      ],
      "metadata": {
        "colab": {
          "base_uri": "https://localhost:8080/"
        },
        "id": "Y5ur8NJs46hy",
        "outputId": "dfbaff52-db7e-42ba-b662-db447c931903"
      },
      "execution_count": null,
      "outputs": [
        {
          "output_type": "stream",
          "name": "stdout",
          "text": [
            "--2024-01-24 17:53:04--  https://hgdownload.soe.ucsc.edu/goldenPath/mm10/chromosomes/chrY.fa.gz\n",
            "Resolving hgdownload.soe.ucsc.edu (hgdownload.soe.ucsc.edu)... 128.114.119.163\n",
            "Connecting to hgdownload.soe.ucsc.edu (hgdownload.soe.ucsc.edu)|128.114.119.163|:443... connected.\n",
            "HTTP request sent, awaiting response... 200 OK\n",
            "Length: 28730385 (27M) [application/x-gzip]\n",
            "Saving to: ‘chrY.fa.gz.1’\n",
            "\n",
            "chrY.fa.gz.1        100%[===================>]  27.40M  29.7MB/s    in 0.9s    \n",
            "\n",
            "2024-01-24 17:53:05 (29.7 MB/s) - ‘chrY.fa.gz.1’ saved [28730385/28730385]\n",
            "\n"
          ]
        }
      ]
    },
    {
      "cell_type": "code",
      "source": [
        "import gzip\n",
        "import pandas as pd\n",
        "chrY_Human = []\n",
        "chrY_Mouse = []\n",
        "k = 0\n",
        "with gzip.open('/content/chrY.fa.gz') as fh:\n",
        "  for i, line in enumerate(fh.readlines()):\n",
        "    if i != 0:\n",
        "      chrY_Human += list(str(line))[2:-3]\n",
        "      if k == 0 and chrY_Human[-1] != 'N':\n",
        "        k = len(chrY_Human)\n",
        "  print(len(chrY_Human))\n",
        "q = 0\n",
        "with gzip.open('/content/chrY.fa.gz.1') as fm:\n",
        "  for i, line in enumerate(fm.readlines()):\n",
        "    if i != 0:\n",
        "      chrY_Mouse += list(str(line))[2:-3]\n",
        "    if i>0:\n",
        "      if q == 0 and chrY_Mouse[-1] != 'N':\n",
        "          q = len(chrY_Mouse)\n",
        "  print(len(chrY_Mouse))\n",
        "\n",
        "print(k, q)\n"
      ],
      "metadata": {
        "colab": {
          "base_uri": "https://localhost:8080/"
        },
        "id": "x2eh4ZsLJCsc",
        "outputId": "23fa17dd-4b3b-4701-9c62-2d2a1734439d"
      },
      "execution_count": null,
      "outputs": [
        {
          "output_type": "stream",
          "name": "stdout",
          "text": [
            "57227415\n",
            "91744698\n",
            "10050 110050\n"
          ]
        }
      ]
    },
    {
      "cell_type": "markdown",
      "source": [
        "Рассмотрим решение задачи на кусочке хромосом не содержащем  N"
      ],
      "metadata": {
        "id": "PpWG6R0lYFf2"
      }
    },
    {
      "cell_type": "code",
      "source": [
        "print(chrY_Human[k:k+500])"
      ],
      "metadata": {
        "colab": {
          "base_uri": "https://localhost:8080/"
        },
        "id": "ioSmrgk7_Ci0",
        "outputId": "c37d49c8-f7a5-491d-d01f-2d757ce4dcb4"
      },
      "execution_count": null,
      "outputs": [
        {
          "output_type": "stream",
          "name": "stdout",
          "text": [
            "['c', 't', 'a', 't', 'c', 'a', 'g', 'c', 'a', 'g', 'g', 'a', 't', 'g', 't', 'g', 'g', 'g', 't', 'g', 'g', 'g', 'a', 'g', 'c', 'a', 'g', 'a', 't', 't', 'a', 'g', 'a', 'g', 'a', 'a', 't', 'a', 'a', 'a', 'a', 'g', 'c', 'a', 'g', 'a', 'c', 't', 'g', 'c', 'c', 't', 'g', 'a', 'g', 'c', 'c', 'a', 'g', 'c', 'a', 'g', 't', 'g', 'g', 'c', 'a', 'a', 'c', 'c', 'c', 'a', 'a', 't', 'g', 'g', 'g', 'g', 't', 'c', 'c', 'c', 't', 't', 't', 'c', 'c', 'a', 't', 'a', 'c', 't', 'g', 't', 'g', 'g', 'a', 'a', 'g', 'c', 't', 't', 'c', 'g', 't', 't', 'c', 't', 't', 't', 'c', 'a', 'c', 't', 'c', 't', 't', 't', 'g', 'c', 'a', 'a', 't', 'a', 'a', 'a', 't', 'c', 't', 't', 'g', 'c', 't', 'a', 't', 't', 'g', 'c', 't', 'c', 'a', 'c', 't', 'c', 't', 't', 't', 'g', 'g', 'g', 't', 'c', 'c', 'a', 'c', 'a', 'c', 't', 'g', 'c', 'c', 't', 't', 't', 'a', 't', 'g', 'a', 'g', 'c', 't', 'g', 't', 'g', 'a', 'c', 'a', 'c', 't', 'c', 'a', 'c', 'c', 'g', 'c', 'a', 'a', 'a', 'g', 'g', 't', 'c', 't', 'g', 'c', 'a', 'g', 'c', 't', 't', 'c', 'a', 'c', 't', 'c', 'c', 't', 'g', 'a', 'g', 'c', 'c', 'a', 'g', 't', 'g', 'a', 'g', 'a', 'c', 'c', 'a', 'c', 'a', 'a', 'c', 'c', 'c', 'c', 'a', 'c', 'c', 'a', 'g', 'a', 'a', 'a', 'g', 'a', 'a', 'g', 'a', 'a', 'a', 'c', 't', 'c', 'a', 'g', 'a', 'a', 'c', 'a', 'c', 'a', 't', 'c', 't', 'g', 'a', 'a', 'c', 'a', 't', 'c', 'a', 'g', 'a', 'a', 'g', 'a', 'a', 'a', 'c', 'a', 'a', 'a', 'c', 't', 'c', 'c', 'g', 'g', 'a', 'c', 'g', 'c', 'g', 'c', 'c', 'a', 'c', 'c', 't', 't', 't', 'a', 'a', 'g', 'a', 'a', 'c', 't', 'g', 't', 'a', 'a', 'c', 'a', 'c', 't', 'c', 'a', 'c', 'c', 'g', 'c', 'g', 'a', 'g', 'g', 't', 't', 'c', 'c', 'g', 'c', 'g', 't', 'c', 't', 't', 'c', 'a', 't', 't', 'c', 't', 't', 'g', 'a', 'a', 'g', 't', 'c', 'a', 'g', 't', 'g', 'a', 'g', 'a', 'c', 'c', 'a', 'a', 'g', 'a', 'a', 'c', 'c', 'c', 'a', 'c', 'c', 'a', 'a', 't', 't', 'c', 'c', 'a', 'g', 'a', 'c', 'a', 'c', 'a', 'c', 't', 'a', 'g', 'g', 'a', 'c', 'c', 'c', 't', 'g', 'a', 'g', 'a', 'c', 'a', 'a', 'c', 'C', 'C', 'C', 'T', 'A', 'G', 'A', 'A', 'G', 'A', 'G', 'C', 'A', 'C', 'C', 'T', 'G', 'G', 'T', 'T', 'G', 'A', 'T', 'A', 'A', 'C', 'C', 'C', 'A', 'G', 'T', 'T', 'C', 'C', 'C', 'A', 'T', 'C', 'T', 'G', 'G', 'G', 'A', 'T', 'T', 'T', 'A', 'G', 'G', 'G', 'G', 'A', 'C', 'C', 'T', 'G', 'G', 'A', 'C', 'A', 'G', 'C', 'C', 'C', 'G', 'G', 'A', 'A', 'A', 'A', 'T', 'G', 'A', 'G', 'C', 'T', 'C', 'C', 'T', 'C', 'A', 'T', 'C', 'T', 'C', 'T', 'A', 'A', 'C', 'C', 'C', 'A', 'G', 'T', 'T', 'C', 'C', 'C', 'C', 'T', 'G', 'T', 'G', 'G']\n"
          ]
        }
      ]
    },
    {
      "cell_type": "code",
      "source": [
        "print(chrY_Mouse[q:q+500])"
      ],
      "metadata": {
        "colab": {
          "base_uri": "https://localhost:8080/"
        },
        "id": "9YZAh93vAYMd",
        "outputId": "075c2c46-6f0d-49d6-d3dc-71c16c0d56a6"
      },
      "execution_count": null,
      "outputs": [
        {
          "output_type": "stream",
          "name": "stdout",
          "text": [
            "['T', 'C', 'A', 'A', 'A', 'G', 'A', 'T', 'C', 'a', 't', 'g', 'g', 'a', 'g', 't', 'a', 'c', 't', 'a', 'c', 't', 'c', 'a', 'g', 'c', 'a', 'a', 't', 't', 'a', 'a', 'a', 'a', 'a', 'c', 'a', 'a', 't', 'g', 'a', 'a', 't', 't', 't', 'a', 't', 'g', 'a', 'a', 'a', 't', 't', 'c', 'a', 't', 'a', 'g', 'g', 'c', 'a', 'a', 'g', 't', 'g', 'g', 'a', 't', 'g', 't', 'a', 't', 'c', 't', 'g', 'g', 'a', 'g', 'g', 'a', 't', 'a', 't', 'c', 'a', 't', 'c', 'c', 't', 'g', 'a', 'g', 't', 'g', 'a', 'g', 'g', 't', 'a', 'a', 'c', 'c', 'c', 'a', 'a', 't', 'c', 'a', 'c', 'a', 'a', 'a', 'a', 'g', 'a', 'a', 'c', 't', 'c', 'a', 'c', 'a', 't', 'g', 'a', 't', 'a', 't', 'g', 'c', 'a', 'c', 't', 'c', 'a', 'c', 't', 'g', 'a', 'a', 'a', 'a', 'g', 't', 'g', 'g', 'a', 't', 'a', 't', 't', 'a', 'g', 'c', 'c', 'c', 'a', 'g', 'a', 'a', 'a', 'c', 't', 't', 'a', 'g', 't', 'a', 't', 'a', 'c', 'c', 'a', 'a', 'a', 'g', 'a', 't', 'a', 'c', 'a', 'a', 't', 't', 't', 't', 'c', 'a', 'a', 'a', 'a', 't', 'a', 'c', 'a', 't', 'g', 'a', 't', 'a', 'a', 't', 'c', 'a', 'a', 'g', 'a', 'a', 'g', 'a', 'a', 'g', 'g', 'a', 'a', 'g', 'a', 'c', 'c', 'a', 'a', 'a', 'g', 't', 'a', 't', 'g', 'g', 'a', 't', 'a', 't', 'c', 't', 't', 'g', 't', 't', 'c', 'c', 't', 't', 'c', 't', 't', 'a', 'g', 'a', 'a', 't', 'g', 'g', 'g', 'g', 'a', 'a', 'c', 'a', 'a', 'a', 'a', 't', 'a', 'c', 'c', 'c', 'a', 't', 'g', 'g', 'a', 'a', 'g', 'g', 'a', 't', 't', 't', 'c', 'c', 'a', 'a', 'a', 'g', 't', 't', 't', 'g', 'a', 'a', 'g', 'c', 't', 'g', 'a', 'g', 'a', 'c', 'a', 'g', 'a', 'a', 'g', 'g', 'a', 'a', 'g', 't', 'a', 'c', 'c', 'a', 't', 'c', 'c', 'c', 't', 'c', 't', 'g', 'g', 'a', 't', 'g', 'g', 't', 'a', 'c', 't', 'g', 'c', 'c', 'a', 'c', 'a', 'c', 'c', 't', 'g', 'a', 'g', 'g', 'a', 't', 'c', 't', 'a', 't', 'c', 'c', 'c', 'a', 't', 'a', 'a', 'a', 'c', 'a', 'a', 'c', 'c', 'a', 'c', 'c', 'a', 'a', 'a', 'c', 't', 'c', 'a', 'g', 'a', 'c', 'a', 'c', 't', 'a', 't', 't', 'g', 'c', 'a', 't', 'a', 't', 'g', 'c', 'c', 'a', 't', 'c', 'a', 'a', 'a', 'a', 't', 't', 't', 'g', 'g', 'c', 't', 'g', 'g', 'c', 'a', 'g', 'g', 'a', 'c', 'c', 'c', 't', 'g', 'a', 'c', 'a', 't', 'a', 'g', 'c', 't', 'c', 't', 'c', 't', 'c', 't', 'c', 't', 't', 'g', 't', 'g', 'a', 'g', 'g', 'c', 't', 'a', 'a', 'g', 'c', 't', 'a', 'g', 't', 'g', 'c', 'c', 't', 'g', 'g', 'c', 'a', 'a', 'a', 't', 'a', 'c', 'g', 'g', 'a', 'c', 'a', 't', 'g', 'g', 'a', 't', 'a', 'c', 'a', 'c', 'a', 'c', 'a', 'g', 't', 'c', 'a', 't', 'g', 't', 'c', 't', 't', 'g', 't', 'a', 'a', 't', 'g', 'a', 'a', 'c', 'a', 'c', 'a']\n"
          ]
        }
      ]
    },
    {
      "cell_type": "markdown",
      "source": [
        "#Поиск синтетических блоков"
      ],
      "metadata": {
        "id": "GLhMSVnaI-0-"
      }
    },
    {
      "cell_type": "markdown",
      "source": [
        "##Построение DotPlot"
      ],
      "metadata": {
        "id": "bzQIHy2_CQ5U"
      }
    },
    {
      "cell_type": "markdown",
      "source": [
        "###код"
      ],
      "metadata": {
        "id": "3s7Ti3i7fmUo"
      }
    },
    {
      "cell_type": "code",
      "source": [
        "import matplotlib.pyplot as plt\n",
        "import seaborn as sns\n",
        "import pandas as pd"
      ],
      "metadata": {
        "id": "CmzDfLGUQleV"
      },
      "execution_count": null,
      "outputs": []
    },
    {
      "cell_type": "code",
      "source": [
        "complimentary = [('A', 'T'), ('A', 't'), ('a', 'T'), ('a', 't'),\n",
        "                 ('T', 'A'), ('t', 'a'), ('T', 'a'), ('t', 'A'),\n",
        "                 ('C', 'G'), ('C', 'g'), ('c', 'G'), ('c', 'g'),\n",
        "                 ('G', 'C'), ('G', 'c'), ('g', 'C'), ('g', 'c')]"
      ],
      "metadata": {
        "id": "2G_mXY2v6n4k"
      },
      "execution_count": null,
      "outputs": []
    },
    {
      "cell_type": "markdown",
      "source": [
        "![ASCII_Code_Chart.svg.png](data:image/png;base64,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)"
      ],
      "metadata": {
        "id": "uBWZImCn3bTY"
      }
    },
    {
      "cell_type": "code",
      "source": [
        "def get_point(X, Y, k):\n",
        "  R = 1\n",
        "  L = 1\n",
        "  for i in range(len(X)):\n",
        "    if not(ord(X[i]) == ord(Y[i]) or ord(X[i]) == ord(Y[i])+32 or ord(X[i]) == ord(Y[i])-32):\n",
        "      R = 0\n",
        "    if (X[i], Y[k-1-i]) not in complimentary:\n",
        "      L = 0\n",
        "  if R == 1:\n",
        "    return 'R'\n",
        "  elif L ==1:\n",
        "    return 'L'\n",
        "  else:\n",
        "    return False"
      ],
      "metadata": {
        "id": "lyyet4IJ-8VT"
      },
      "execution_count": null,
      "outputs": []
    },
    {
      "cell_type": "code",
      "source": [
        "def DotPlot(X, Y, k):\n",
        "  DotPlot_r = [[], []]\n",
        "  DotPlot_l = [[], []]\n",
        "  for i in range(len(X)-k+1):\n",
        "    strX = X[i:i+k]\n",
        "    for j in range(len(Y)-k+1):\n",
        "      strY = Y[j:j+k]\n",
        "      #if X[i] == 'N' or X[i] == 'n':\n",
        "        #DotPlot[0].append(i)\n",
        "        #DotPlot[1].append(j)\n",
        "      #elif Y[j] == 'N' or Y[j] == 'n':\n",
        "        #print(i,j)\n",
        "        #DotPlot[0].append(i)\n",
        "        #DotPlot[1].append(j)\n",
        "      s = get_point(strX, strY, k)\n",
        "      if s =='R':\n",
        "        DotPlot_r[0].append(i)\n",
        "        DotPlot_r[1].append(j)\n",
        "      elif s=='L':\n",
        "        DotPlot_l[0].append(i)\n",
        "        DotPlot_l[1].append(j)\n",
        "      #print(i, j, strX, strY, s)\n",
        "  print('красные: ', len(DotPlot_r[0]))\n",
        "  print('синие: ', len(DotPlot_l[1]))\n",
        "  return DotPlot_r, DotPlot_l"
      ],
      "metadata": {
        "id": "C3ggkoBJ2d2K"
      },
      "execution_count": null,
      "outputs": []
    },
    {
      "cell_type": "code",
      "source": [
        "def art_plot(DotPlot_r, DotPlot_l, lx, ly, k):\n",
        "  fig = plt.figure(figsize=(5, 5), dpi= 80, facecolor='w', edgecolor='k')\n",
        "  #plt.scatter(DotPlot[0], DotPlot[1], size=1)\n",
        "  plt.scatter(DotPlot_r[0], DotPlot_r[1] , color='red')\n",
        "  plt.scatter(DotPlot_l[0], DotPlot_l[1], color='blue')\n",
        "  plt.xlabel('Human')\n",
        "  plt.ylabel('Mouse')\n",
        "  plt.axis([-1, lx-k+1, -1, ly-k+1])\n",
        "  plt.show()"
      ],
      "metadata": {
        "id": "CrdSUfy87r0x"
      },
      "execution_count": null,
      "outputs": []
    },
    {
      "cell_type": "markdown",
      "source": [
        "###построение"
      ],
      "metadata": {
        "id": "1H_z9qt6fgBD"
      }
    },
    {
      "cell_type": "code",
      "source": [
        "#пример с лекции\n",
        "X = list('AGCAGGTTATCTACCTGT')\n",
        "Y = list('AGCAGGAGATAAACCTGT')\n",
        "print('длинна строк:', len(Y))\n",
        "DotPlot_r, DotPlot_l = DotPlot(X, Y, 3)\n",
        "art_plot(DotPlot_r, DotPlot_l, len(X), len(Y), 3)"
      ],
      "metadata": {
        "colab": {
          "base_uri": "https://localhost:8080/",
          "height": 429
        },
        "id": "u1Kzt3HcJJXx",
        "outputId": "8870a429-c43a-4245-8961-c34d1fd49bc7"
      },
      "execution_count": null,
      "outputs": [
        {
          "output_type": "stream",
          "name": "stdout",
          "text": [
            "длинна строк: 18\n",
            "красные:  8\n",
            "синие:  10\n"
          ]
        },
        {
          "output_type": "display_data",
          "data": {
            "text/plain": [
              "<Figure size 400x400 with 1 Axes>"
            ],
            "image/png": "[encoded data removed]"
          },
          "metadata": {}
        }
      ]
    },
    {
      "cell_type": "code",
      "source": [
        "X = chrY_Human[k:k+5000]\n",
        "Y = chrY_Mouse[q:q+5000]\n",
        "print('длинна строк:', len(Y))\n",
        "DotPlot_r, DotPlot_l = DotPlot(X, Y, 10)\n",
        "art_plot(DotPlot_r, DotPlot_l, len(X), len(Y), 10)"
      ],
      "metadata": {
        "colab": {
          "base_uri": "https://localhost:8080/",
          "height": 425
        },
        "id": "Vhix5SGuJzo5",
        "outputId": "c298888f-9804-44c3-ed64-12a053c051ea"
      },
      "execution_count": null,
      "outputs": [
        {
          "output_type": "stream",
          "name": "stdout",
          "text": [
            "длинна строк: 5000\n",
            "красные:  55\n",
            "синие:  34\n"
          ]
        },
        {
          "output_type": "display_data",
          "data": {
            "text/plain": [
              "<Figure size 400x400 with 1 Axes>"
            ],
            "image/png": "[encoded data removed]"
          },
          "metadata": {}
        }
      ]
    },
    {
      "cell_type": "markdown",
      "source": [
        "##Работа с графами"
      ],
      "metadata": {
        "id": "w6ys2GldKxu6"
      }
    },
    {
      "cell_type": "markdown",
      "source": [
        "###код"
      ],
      "metadata": {
        "id": "8XTwqZ6Dfa2N"
      }
    },
    {
      "cell_type": "code",
      "source": [
        "def dfs(g, visited, start, comp=None):\n",
        "  visited[start] = True\n",
        "  #print(start)\n",
        "  if comp == None:\n",
        "    comp = [start]\n",
        "  else:\n",
        "    comp.append(start)\n",
        "  for v in g[start]:\n",
        "    if not visited[v]:\n",
        "      dfs(g, visited, v, comp)\n",
        "  return comp"
      ],
      "metadata": {
        "id": "RvEgIzYybr7h"
      },
      "execution_count": null,
      "outputs": []
    },
    {
      "cell_type": "code",
      "source": [
        "def dist(x, y):\n",
        "  return ((x[0]-y[0])**2 + (x[1]-y[1])**2)"
      ],
      "metadata": {
        "id": "-BwLJFTTfnsH"
      },
      "execution_count": null,
      "outputs": []
    },
    {
      "cell_type": "code",
      "source": [
        "def make_draf(DotPlot, maxDistance):\n",
        "  n = len(DotPlot[0])\n",
        "  g = [[] for i in range(n)]\n",
        "  for i in range(n):\n",
        "    for j in range(i, n):\n",
        "      if dist((DotPlot[0][i], DotPlot[1][i]), (DotPlot[0][j], DotPlot[1][j])) < maxDistance**2 and i!=j:\n",
        "        g[i].append(j)\n",
        "        g[j].append(i)\n",
        "  return g"
      ],
      "metadata": {
        "id": "3TigGIDFcWxT"
      },
      "execution_count": null,
      "outputs": []
    },
    {
      "cell_type": "code",
      "source": [
        "def sintbox(DotPlot, maxDistance, minSize):\n",
        "  visited = [False]*len(DotPlot[0])\n",
        "  g = make_draf(DotPlot, maxDistance)\n",
        "  print('graf:', g)\n",
        "  box = []\n",
        "  n = 0\n",
        "  for i in range(len(visited)):\n",
        "    if not visited[i]:\n",
        "      n += 1\n",
        "      compl = dfs(g, visited, i)\n",
        "      if len(compl)>=minSize:\n",
        "        box.append(compl)\n",
        "  return box"
      ],
      "metadata": {
        "id": "9SWs7vxbJaxH"
      },
      "execution_count": null,
      "outputs": []
    },
    {
      "cell_type": "markdown",
      "source": [
        "### На кусочке хромосом"
      ],
      "metadata": {
        "id": "n0F9euIOJw16"
      }
    },
    {
      "cell_type": "code",
      "source": [
        "sintbox(DotPlot_r, 100, 3)"
      ],
      "metadata": {
        "id": "Mz399C1tgDz5",
        "colab": {
          "base_uri": "https://localhost:8080/"
        },
        "outputId": "321472d8-4767-440b-a4c0-43f8efdb0d1b"
      },
      "execution_count": null,
      "outputs": [
        {
          "output_type": "stream",
          "name": "stdout",
          "text": [
            "graf: [[], [], [], [], [5], [4], [7, 8], [6, 8], [6, 7], [10, 11], [9, 11], [9, 10], [13, 14], [12, 14], [12, 13], [], [17], [16], [], [], [], [], [], [], [], [26, 27], [25, 27], [25, 26], [], [30], [29], [], [], [], [35], [34], [37, 38], [36, 38], [36, 37], [40], [39], [], [], [44, 45], [43, 45], [43, 44], [47], [46], [], [50], [49], [], [53, 54], [52, 54], [52, 53]]\n"
          ]
        },
        {
          "output_type": "execute_result",
          "data": {
            "text/plain": [
              "[[6, 7, 8],\n",
              " [9, 10, 11],\n",
              " [12, 13, 14],\n",
              " [25, 26, 27],\n",
              " [36, 37, 38],\n",
              " [43, 44, 45],\n",
              " [52, 53, 54]]"
            ]
          },
          "metadata": {},
          "execution_count": 18
        }
      ]
    },
    {
      "cell_type": "code",
      "source": [
        "sintbox(DotPlot_l, 100, 3)"
      ],
      "metadata": {
        "colab": {
          "base_uri": "https://localhost:8080/"
        },
        "id": "83rt-31H0KPw",
        "outputId": "c7c303b3-19b1-473e-91c5-6640b64f8c75"
      },
      "execution_count": null,
      "outputs": [
        {
          "output_type": "stream",
          "name": "stdout",
          "text": [
            "graf: [[1], [0], [], [4, 5], [3, 5], [3, 4], [], [], [], [], [11], [10], [], [14], [13], [], [], [], [], [20, 21], [19, 21], [19, 20], [], [], [], [], [27, 28], [26, 28], [26, 27], [], [], [], [], []]\n"
          ]
        },
        {
          "output_type": "execute_result",
          "data": {
            "text/plain": [
              "[[3, 4, 5], [19, 20, 21], [26, 27, 28]]"
            ]
          },
          "metadata": {},
          "execution_count": 19
        }
      ]
    },
    {
      "cell_type": "markdown",
      "source": [
        "##Снтетические последовательности мыши и человека"
      ],
      "metadata": {
        "id": "dd1jAJD9Kjz3"
      }
    },
    {
      "cell_type": "code",
      "source": [
        "def minin(DotPlot_r, DotPlot_l, plus, minuse, x, j):\n",
        "  if x>0:\n",
        "    index = plus[x-1]\n",
        "    Dot = DotPlot_r\n",
        "  else:\n",
        "    index = minuse[-x-len(plus)-1]\n",
        "    Dot = DotPlot_l\n",
        "  m = Dot[j][index[0]]\n",
        "  for i in index:\n",
        "    if m>Dot[j][i]:\n",
        "      m = Dot[j][i]\n",
        "  return m"
      ],
      "metadata": {
        "id": "0qWR4ds29HEc"
      },
      "execution_count": null,
      "outputs": []
    },
    {
      "cell_type": "code",
      "source": [
        "def make_sint_list(DotPlot_r, DotPlot_l, maxDistance, minSize):\n",
        "  plus = sintbox(DotPlot_r, maxDistance, minSize)\n",
        "  minuse = sintbox(DotPlot_l, maxDistance, minSize)\n",
        "  lx = list(range(1, len(plus)+1)) + list(range(-len(minuse)-len(plus), -len(plus)))\n",
        "  lx = sorted(lx, key=lambda x: minin(DotPlot_r, DotPlot_l, plus, minuse, x, 0))\n",
        "  ly = list(range(1, len(plus)+1)) + list(range(-len(minuse)-len(plus), -len(plus)))\n",
        "  ly = sorted(ly, key=lambda x: minin(DotPlot_r, DotPlot_l, plus, minuse, x, 1))\n",
        "  return lx, ly"
      ],
      "metadata": {
        "id": "B2TXpJbHKiRL"
      },
      "execution_count": null,
      "outputs": []
    },
    {
      "cell_type": "code",
      "source": [
        "lx, ly = make_sint_list(DotPlot_r, DotPlot_l, 100, 3)"
      ],
      "metadata": {
        "colab": {
          "base_uri": "https://localhost:8080/"
        },
        "id": "HGINop7KGI4m",
        "outputId": "98e8bdf0-3ad7-4a41-cbc8-9eb9d25c8a9b"
      },
      "execution_count": null,
      "outputs": [
        {
          "output_type": "stream",
          "name": "stdout",
          "text": [
            "graf: [[], [], [], [], [5], [4], [7, 8], [6, 8], [6, 7], [10, 11], [9, 11], [9, 10], [13, 14], [12, 14], [12, 13], [], [17], [16], [], [], [], [], [], [], [], [26, 27], [25, 27], [25, 26], [], [30], [29], [], [], [], [35], [34], [37, 38], [36, 38], [36, 37], [40], [39], [], [], [44, 45], [43, 45], [43, 44], [47], [46], [], [50], [49], [], [53, 54], [52, 54], [52, 53]]\n",
            "graf: [[1], [0], [], [4, 5], [3, 5], [3, 4], [], [], [], [], [11], [10], [], [14], [13], [], [], [], [], [20, 21], [19, 21], [19, 20], [], [], [], [], [27, 28], [26, 28], [26, 27], [], [], [], [], []]\n"
          ]
        }
      ]
    },
    {
      "cell_type": "code",
      "source": [
        "print(lx)\n",
        "print(ly)"
      ],
      "metadata": {
        "colab": {
          "base_uri": "https://localhost:8080/"
        },
        "id": "hDtsOf_uK-LU",
        "outputId": "7c8c0b87-7663-43f4-d4d5-54c4e8a6cf12"
      },
      "execution_count": null,
      "outputs": [
        {
          "output_type": "stream",
          "name": "stdout",
          "text": [
            "[-8, 1, 2, 3, -9, 4, 5, -10, 6, 7]\n",
            "[-9, 3, 4, 1, -10, 6, 7, 2, -8, 5]\n"
          ]
        }
      ]
    },
    {
      "cell_type": "markdown",
      "source": [
        "#2-beak расстояния"
      ],
      "metadata": {
        "id": "ajoECeo_Kn8c"
      }
    },
    {
      "cell_type": "markdown",
      "source": [
        "###код"
      ],
      "metadata": {
        "id": "SII78GRRfN_K"
      }
    },
    {
      "cell_type": "code",
      "source": [
        "def BreakPoint_Graf(lx, ly):\n",
        "  g = [[] for i in range(2*len(lx))]\n",
        "  for i in range(len(lx)):\n",
        "    start = lx[i]\n",
        "    ss = ly[i]\n",
        "    if i == len(lx)-1:\n",
        "      end = lx[0]\n",
        "      ee = ly[0]\n",
        "    else:\n",
        "      end = lx[i+1]\n",
        "      ee= ly[i+1]\n",
        "    if start>0:\n",
        "      start_i = (start-1)*2+1\n",
        "    else:\n",
        "      start_i = (-start-1)*2\n",
        "    if end>0:\n",
        "      end_i = (end-1)*2\n",
        "    else:\n",
        "      end_i = (-end-1)*2+1\n",
        "    g[start_i].append(end_i)\n",
        "    g[end_i].append(start_i)\n",
        "    if ss > 0:\n",
        "      ss_i = (ss-1)*2 +1\n",
        "    else:\n",
        "      ss_i = (-ss-1)*2\n",
        "    if ee > 0:\n",
        "      ee_i = (ee-1)*2\n",
        "    else:\n",
        "      ee_i = (-ee-1)*2 + 1\n",
        "    g[ss_i].append(ee_i)\n",
        "    g[ee_i].append(ss_i)\n",
        "  return g"
      ],
      "metadata": {
        "id": "K1Omr8atK5RF"
      },
      "execution_count": null,
      "outputs": []
    },
    {
      "cell_type": "code",
      "source": [
        "#поиск циклов в графе\n",
        "def DFS(g, start, visited, reb, cycle):\n",
        "    visited[start] = 1\n",
        "    for u in range(len(g[start])):\n",
        "        end = g[start][u]\n",
        "        if visited[end] == 0 and reb[start][end] > 0:\n",
        "          reb[start][end] -= 1\n",
        "          reb[end][start] -= 1\n",
        "          #print(start, end)\n",
        "          cycle = DFS(g, end, visited, reb, cycle)\n",
        "        elif visited[end] == 1 and reb[start][end] > 0:\n",
        "          reb[start][end] -= 1\n",
        "          reb[end][start] -= 1\n",
        "          cycle = True\n",
        "          visited[start] = 2\n",
        "          #print('***', start, end, 'N =', N)\n",
        "    visited[start] = 2\n",
        "    return cycle"
      ],
      "metadata": {
        "id": "OXvI-4AWF41O"
      },
      "execution_count": null,
      "outputs": []
    },
    {
      "cell_type": "code",
      "source": [
        "def Count_cycle(lx, ly):\n",
        "  visited = [0]*2*len(lx)\n",
        "  g = BreakPoint_Graf(lx, ly)\n",
        "  N = 0    #число циклов\n",
        "  reb = [[0]*len(visited) for i in range(len(visited))]   #помечаем пройденные ребра\n",
        "  for i in range(len(g)):\n",
        "    for j in g[i]:\n",
        "      reb[i][j] += 1\n",
        "  for i in range(len(visited)):\n",
        "    if visited[i] == 0:\n",
        "        s = DFS(g, i, visited, reb, False)\n",
        "        if s:\n",
        "          N+=1\n",
        "  return N"
      ],
      "metadata": {
        "id": "w8nP0GKiV-Pl"
      },
      "execution_count": null,
      "outputs": []
    },
    {
      "cell_type": "markdown",
      "source": [
        "###Проверка на кусочке хромомсом"
      ],
      "metadata": {
        "id": "HUGLXX1fX1rN"
      }
    },
    {
      "cell_type": "code",
      "source": [
        "N = Count_cycle(lx, ly)\n",
        "two_break = len(lx) - N\n",
        "print('Cycles:', N)\n",
        "print('SintBoxes:', len(lx))\n",
        "print('2_Break:', two_break)"
      ],
      "metadata": {
        "colab": {
          "base_uri": "https://localhost:8080/"
        },
        "id": "PIHCTbGfcCNG",
        "outputId": "6d44c7ff-618a-42a8-ffa4-7a4e53ce4236"
      },
      "execution_count": null,
      "outputs": [
        {
          "output_type": "stream",
          "name": "stdout",
          "text": [
            "Cycles: 4\n",
            "SintBoxes: 10\n",
            "2_Break: 6\n"
          ]
        }
      ]
    },
    {
      "cell_type": "markdown",
      "source": [
        "Вывод:\n",
        "\n",
        "\n",
        "*   Сложно обработать всю хромосому для построения DotPlot, поэтому полученные данные не имеют особого смысла. К-меры брались длины 10, на всей хромомсоме возможно такая длинна и имеет смысл, но на кототком участке в 5000 явных синтеничных блоков не найдено( maxDistance=100, minSize=3 блоков размером больше 3 не нашлось)\n",
        "\n",
        "*   Получившиеся последовательности блоков:\n",
        "\n",
        "Мышь:   -8, 1, 2, 3, -9, 4, 5, -10, 6, 7\n",
        "\n",
        "Человек:-9, 3, 4, 1, -10, 6, 7, 2, -8, 5\n",
        "*   Итоговые значения\n",
        "\n",
        "Cycles: 4\n",
        "\n",
        "SintBoxes: 10\n",
        "\n",
        "2_Break: 6\n"
      ],
      "metadata": {
        "id": "HqkAxDNfcJgu"
      }
    }
  ]
}